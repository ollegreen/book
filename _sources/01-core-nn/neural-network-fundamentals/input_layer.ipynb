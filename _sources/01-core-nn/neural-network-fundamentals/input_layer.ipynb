{
 "cells": [
  {
   "cell_type": "markdown",
   "metadata": {},
   "source": [
    "# Input Layer\n",
    "\n",
    "This is some explination text that is a bit longer. This is some explination text that is a bit longer. This is some explination text that is a bit longer. This is some explination text that is a bit longer. This is some explination text that is a bit longer. This is some explination text that is a bit longer. This is some explination text that is a bit longer. This is some explination text that is a bit longer. This is some explination text that is a bit longer. This is some explination text that is a bit longer. This is some explination text that is a bit longer. This is some explination text that is a bit longer. This is some explination text that is a bit longer. This is some explination text that is a bit longer. This is some explination text that is a bit longer. \n",
    "\n",
    "This is some explination text that is a bit longer. This is some explination text that is a bit longer. This is some explination text that is a bit longer. \n",
    "\n",
    "\n",
    "This is some explination text that is a bit longer. This is some explination text that is a bit longer. This is some explination text that is a bit longer. This is some explination text that is a bit longer. "
   ]
  },
  {
   "cell_type": "code",
   "execution_count": null,
   "metadata": {},
   "outputs": [],
   "source": [
    "print('hello there!')"
   ]
  },
  {
   "cell_type": "code",
   "execution_count": null,
   "metadata": {},
   "outputs": [],
   "source": [
    "a = 2\n",
    "b = 1"
   ]
  },
  {
   "cell_type": "code",
   "execution_count": null,
   "metadata": {},
   "outputs": [],
   "source": [
    "a + b"
   ]
  },
  {
   "cell_type": "markdown",
   "metadata": {},
   "source": [
    "## Code implementation\n",
    "\n",
    "This is some explination text that is a bit longer. This is some explination text that is a bit longer. This is some explination text that is a bit longer. This is some explination text that is a bit longer. This is some explination text that is a bit longer. This is some explination text that is a bit longer. This is some explination text that is a bit longer. This is some explination text that is a bit longer. This is some explination text that is a bit longer. This is some explination text that is a bit longer. This is some explination text that is a bit longer. This is some explination text that is a bit longer. This is some explination text that is a bit longer. This is some explination text that is a bit longer. This is some explination text that is a bit longer. \n",
    "\n",
    "This is some explination text that is a bit longer. This is some explination text that is a bit longer. This is some explination text that is a bit longer. \n",
    "\n",
    "\n",
    "This is some explination text that is a bit longer. This is some explination text that is a bit longer. This is some explination text that is a bit longer. This is some explination text that is a bit longer. "
   ]
  },
  {
   "cell_type": "markdown",
   "metadata": {},
   "source": []
  }
 ],
 "metadata": {
  "language_info": {
   "name": "python"
  }
 },
 "nbformat": 4,
 "nbformat_minor": 2
}
