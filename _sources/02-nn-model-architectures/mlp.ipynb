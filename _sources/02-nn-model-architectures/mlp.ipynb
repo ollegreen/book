{
 "cells": [
  {
   "cell_type": "markdown",
   "metadata": {},
   "source": [
    "# Multi-Layer-Perceptron (MLP)"
   ]
  },
  {
   "cell_type": "markdown",
   "metadata": {},
   "source": [
    "This is often described as the most fundamental neural network. But why is this the case? Is it because it was a type of model that was developed early in the 90s, or because it was providing promising result? Let's go through the main areas to understand the Multi-Layer-Perceptron (MLP)."
   ]
  },
  {
   "cell_type": "markdown",
   "metadata": {},
   "source": [
    "## Brief history:\n",
    "\n",
    "From [Wikipedia](https://en.wikipedia.org/wiki/Multilayer_perceptron): In 1958, a layered network of perceptrons, consisting of an input layer, a hidden layer with randomized weights that did not learn, and an output layer with learning connections, was introduced already by Frank Rosenblatt in his book Perceptron."
   ]
  },
  {
   "cell_type": "code",
   "execution_count": null,
   "metadata": {},
   "outputs": [],
   "source": [
    "import numpy as np\n",
    "import matplotlib.pyplot as plt\n",
    "import time\n",
    "import pandas as pd\n",
    "import sys\n",
    "\n",
    "import torch\n",
    "import torch.nn as nn\n",
    "\n",
    "from torchmetrics import MeanAbsolutePercentageError"
   ]
  },
  {
   "cell_type": "code",
   "execution_count": null,
   "metadata": {},
   "outputs": [],
   "source": [
    "from data.passenger import get_passenger_data\n",
    "from data.gold import get_gold_data"
   ]
  },
  {
   "cell_type": "code",
   "execution_count": null,
   "metadata": {},
   "outputs": [],
   "source": [
    "gold_data = get_gold_data()\n",
    "passenger_data = get_passenger_data()"
   ]
  },
  {
   "cell_type": "code",
   "execution_count": null,
   "metadata": {},
   "outputs": [
    {
     "data": {
      "text/html": [
       "<div>\n",
       "<style scoped>\n",
       "    .dataframe tbody tr th:only-of-type {\n",
       "        vertical-align: middle;\n",
       "    }\n",
       "\n",
       "    .dataframe tbody tr th {\n",
       "        vertical-align: top;\n",
       "    }\n",
       "\n",
       "    .dataframe thead th {\n",
       "        text-align: right;\n",
       "    }\n",
       "</style>\n",
       "<table border=\"1\" class=\"dataframe\">\n",
       "  <thead>\n",
       "    <tr style=\"text-align: right;\">\n",
       "      <th></th>\n",
       "      <th>Date</th>\n",
       "      <th>Passengers</th>\n",
       "    </tr>\n",
       "  </thead>\n",
       "  <tbody>\n",
       "    <tr>\n",
       "      <th>0</th>\n",
       "      <td>1949-01</td>\n",
       "      <td>112</td>\n",
       "    </tr>\n",
       "    <tr>\n",
       "      <th>1</th>\n",
       "      <td>1949-02</td>\n",
       "      <td>118</td>\n",
       "    </tr>\n",
       "  </tbody>\n",
       "</table>\n",
       "</div>"
      ],
      "text/plain": [
       "      Date  Passengers\n",
       "0  1949-01         112\n",
       "1  1949-02         118"
      ]
     },
     "metadata": {},
     "output_type": "display_data"
    }
   ],
   "source": [
    "passenger_data.head(2)"
   ]
  },
  {
   "cell_type": "code",
   "execution_count": null,
   "metadata": {},
   "outputs": [
    {
     "name": "stdout",
     "output_type": "stream",
     "text": [
      "tensor([112, 118, 132, 129, 121, 135, 148, 148, 136, 119, 104, 118, 115, 126,\n",
      "        141, 135, 125, 149, 170, 170, 158, 133, 114, 140, 145, 150, 178, 163,\n",
      "        172, 178, 199, 199, 184, 162, 146, 166, 171, 180, 193, 181, 183, 218,\n",
      "        230, 242, 209, 191, 172, 194, 196, 196, 236, 235, 229, 243, 264, 272,\n",
      "        237, 211, 180, 201, 204, 188, 235, 227, 234, 264, 302, 293, 259, 229,\n",
      "        203, 229, 242, 233, 267, 269, 270, 315, 364, 347, 312, 274, 237, 278,\n",
      "        284, 277, 317, 313, 318, 374, 413, 405, 355, 306, 271, 306, 315, 301,\n",
      "        356, 348, 355, 422, 465, 467, 404, 347, 305, 336, 340, 318, 362, 348,\n",
      "        363, 435, 491, 505, 404, 359, 310, 337, 360, 342, 406, 396, 420, 472,\n",
      "        548, 559, 463, 407, 362, 405, 417, 391, 419, 461, 472, 535, 622, 606,\n",
      "        508, 461, 390, 432])\n"
     ]
    }
   ],
   "source": [
    "# creating tensor from targets_df\n",
    "passenger_tensor = torch.tensor(passenger_data['Passengers'].values)\n",
    "\n",
    "# printing out result\n",
    "print(passenger_tensor)"
   ]
  },
  {
   "cell_type": "code",
   "execution_count": null,
   "metadata": {},
   "outputs": [
    {
     "data": {
      "text/plain": [
       "tensor(622)"
      ]
     },
     "metadata": {},
     "output_type": "display_data"
    }
   ],
   "source": [
    "# normalise the values between 0 and 1:\n",
    "passenger_tensor.max()"
   ]
  },
  {
   "cell_type": "code",
   "execution_count": null,
   "metadata": {},
   "outputs": [],
   "source": [
    "passenger_tensor = passenger_tensor / 622"
   ]
  },
  {
   "cell_type": "code",
   "execution_count": null,
   "metadata": {},
   "outputs": [
    {
     "data": {
      "text/plain": [
       "tensor([0.1801, 0.1897, 0.2122, 0.2074, 0.1945, 0.2170, 0.2379, 0.2379, 0.2186,\n",
       "        0.1913, 0.1672, 0.1897, 0.1849, 0.2026, 0.2267, 0.2170, 0.2010, 0.2395,\n",
       "        0.2733, 0.2733, 0.2540, 0.2138, 0.1833, 0.2251, 0.2331, 0.2412, 0.2862,\n",
       "        0.2621, 0.2765, 0.2862, 0.3199, 0.3199, 0.2958, 0.2605, 0.2347, 0.2669,\n",
       "        0.2749, 0.2894, 0.3103, 0.2910, 0.2942, 0.3505, 0.3698, 0.3891, 0.3360,\n",
       "        0.3071, 0.2765, 0.3119, 0.3151, 0.3151, 0.3794, 0.3778, 0.3682, 0.3907,\n",
       "        0.4244, 0.4373, 0.3810, 0.3392, 0.2894, 0.3232, 0.3280, 0.3023, 0.3778,\n",
       "        0.3650, 0.3762, 0.4244, 0.4855, 0.4711, 0.4164, 0.3682, 0.3264, 0.3682,\n",
       "        0.3891, 0.3746, 0.4293, 0.4325, 0.4341, 0.5064, 0.5852, 0.5579, 0.5016,\n",
       "        0.4405, 0.3810, 0.4469, 0.4566, 0.4453, 0.5096, 0.5032, 0.5113, 0.6013,\n",
       "        0.6640, 0.6511, 0.5707, 0.4920, 0.4357, 0.4920, 0.5064, 0.4839, 0.5723,\n",
       "        0.5595, 0.5707, 0.6785, 0.7476, 0.7508, 0.6495, 0.5579, 0.4904, 0.5402,\n",
       "        0.5466, 0.5113, 0.5820, 0.5595, 0.5836, 0.6994, 0.7894, 0.8119, 0.6495,\n",
       "        0.5772, 0.4984, 0.5418, 0.5788, 0.5498, 0.6527, 0.6367, 0.6752, 0.7588,\n",
       "        0.8810, 0.8987, 0.7444, 0.6543, 0.5820, 0.6511, 0.6704, 0.6286, 0.6736,\n",
       "        0.7412, 0.7588, 0.8601, 1.0000, 0.9743, 0.8167, 0.7412, 0.6270, 0.6945])"
      ]
     },
     "metadata": {},
     "output_type": "display_data"
    }
   ],
   "source": [
    "passenger_tensor"
   ]
  },
  {
   "cell_type": "code",
   "execution_count": null,
   "metadata": {},
   "outputs": [
    {
     "data": {
      "image/png": "[encoded data removed]",
      "text/plain": [
       "<Figure size 800x600 with 1 Axes>"
      ]
     },
     "metadata": {},
     "output_type": "display_data"
    }
   ],
   "source": [
    "# Generate a range of values for x\n",
    "x = np.linspace(-5, 5, 100)\n",
    "# Apply the ReLU activation function\n",
    "y = np.maximum(0, x)\n",
    "\n",
    "# Plot the ReLU activation function\n",
    "plt.figure(figsize=(8, 6))\n",
    "plt.plot(x, y, label='ReLU(x)', color='blue')\n",
    "plt.xlabel('x')\n",
    "plt.ylabel('ReLU(x)')\n",
    "plt.title('ReLU Activation Function')\n",
    "plt.grid(True)\n",
    "plt.legend()\n",
    "plt.show()"
   ]
  },
  {
   "cell_type": "markdown",
   "metadata": {},
   "source": [
    "ReLU adds non-linearity because it selectively activates (passes through) positive values linearly while suppressing (setting to zero) negative values, creating a piecewise-linear function that can approximate a wide range of complex, non-linear functions."
   ]
  },
  {
   "cell_type": "code",
   "execution_count": null,
   "metadata": {},
   "outputs": [],
   "source": [
    "def your_own_relu(x):\n",
    "    if x >= 0:\n",
    "        return x\n",
    "    else:\n",
    "        return 0"
   ]
  },
  {
   "cell_type": "code",
   "execution_count": null,
   "metadata": {},
   "outputs": [],
   "source": [
    "class olles_MLP(nn.Module):\n",
    "    "
   ]
  }
 ],
 "metadata": {
  "language_info": {
   "name": "python"
  }
 },
 "nbformat": 4,
 "nbformat_minor": 2
}
