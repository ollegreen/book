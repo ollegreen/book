{
 "cells": [
  {
   "cell_type": "markdown",
   "metadata": {},
   "source": [
    "# Input Layer\n",
    "\n",
    "This is some explination text that is a bit longer. This is some explination text that is a bit longer. This is some explination text that is a bit longer. This is some explination text that is a bit longer. This is some explination text that is a bit longer. This is some explination text that is a bit longer. This is some explination text that is a bit longer. This is some explination text that is a bit longer. This is some explination text that is a bit longer. This is some explination text that is a bit longer. This is some explination text that is a bit longer. This is some explination text that is a bit longer. This is some explination text that is a bit longer. This is some explination text that is a bit longer. This is some explination text that is a bit longer. \n",
    "\n",
    "This is some explination text that is a bit longer. This is some explination text that is a bit longer. This is some explination text that is a bit longer. \n",
    "\n",
    "\n",
    "This is some explination text that is a bit longer. This is some explination text that is a bit longer. This is some explination text that is a bit longer. This is some explination text that is a bit longer. "
   ]
  },
  {
   "cell_type": "code",
   "execution_count": 1,
   "metadata": {},
   "outputs": [
    {
     "name": "stdout",
     "output_type": "stream",
     "text": [
      "hello there!\n"
     ]
    }
   ],
   "source": [
    "print('hello there!')"
   ]
  },
  {
   "cell_type": "code",
   "execution_count": 2,
   "metadata": {},
   "outputs": [],
   "source": [
    "a = 2\n",
    "b = 1"
   ]
  },
  {
   "cell_type": "code",
   "execution_count": 3,
   "metadata": {},
   "outputs": [
    {
     "data": {
      "text/plain": [
       "3"
      ]
     },
     "execution_count": 3,
     "metadata": {},
     "output_type": "execute_result"
    }
   ],
   "source": [
    "a + b"
   ]
  },
  {
   "cell_type": "markdown",
   "metadata": {},
   "source": [
    "## Code implementation\n",
    "\n",
    "This is some explination text that is a bit longer. This is some explination text that is a bit longer. This is some explination text that is a bit longer. This is some explination text that is a bit longer. This is some explination text that is a bit longer. This is some explination text that is a bit longer. This is some explination text that is a bit longer. This is some explination text that is a bit longer. This is some explination text that is a bit longer. This is some explination text that is a bit longer. This is some explination text that is a bit longer. This is some explination text that is a bit longer. This is some explination text that is a bit longer. This is some explination text that is a bit longer. This is some explination text that is a bit longer. \n",
    "\n",
    "This is some explination text that is a bit longer. This is some explination text that is a bit longer. This is some explination text that is a bit longer. \n",
    "\n",
    "\n",
    "This is some explination text that is a bit longer. This is some explination text that is a bit longer. This is some explination text that is a bit longer. This is some explination text that is a bit longer. "
   ]
  },
  {
   "cell_type": "markdown",
   "metadata": {},
   "source": []
  }
 ],
 "metadata": {
  "language_info": {
   "codemirror_mode": {
    "name": "ipython",
    "version": 3
   },
   "file_extension": ".py",
   "mimetype": "text/x-python",
   "name": "python",
   "nbconvert_exporter": "python",
   "pygments_lexer": "ipython3",
   "version": "3.10.9"
  }
 },
 "nbformat": 4,
 "nbformat_minor": 2
}