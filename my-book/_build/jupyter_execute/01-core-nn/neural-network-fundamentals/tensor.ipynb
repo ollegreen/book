{
 "cells": [
  {
   "cell_type": "markdown",
   "metadata": {},
   "source": [
    "# Tensor\n",
    "What researchers has figured out is that there is one type of data structure that is really good at helping to store our information well, and these are called ```Tensors```. Although it might sound fancy, the beautiful thing is that the are extremely simple to understand and use when you get a hang of them. Instead of going through the technical terms of what these represent, let's do it using some intuitive examples of how we can use tensors to store data that we might want to predict.\n",
    "\n",
    "```{note}\n",
    "If you are familiar with python, it is useful to think of a ***list*** of values. Other resources will explain the differences, for now let's see these tensors as more sophisticated lists/arrays.\n",
    "```\n",
    "\n",
    "## Example: Weather\n",
    "\n",
    "Let's say we want to predict the weather in London. Currently it's the 5th of January 2023, and we have data on what the weather was the last 4 days. Let's say we start looking at only the temperature in celsius, and it seems like the weather has been the following:\n",
    "\n",
    "* 1st of Jan: 8°\n",
    "* 2nd of Jan: 10°\n",
    "* 3rd of Jan: 9°\n",
    "* 4th of Jan: 7°\n",
    "\n",
    "Let's use something we already know to store these values, a ```list``` in python:"
   ]
  },
  {
   "cell_type": "code",
   "execution_count": 1,
   "metadata": {},
   "outputs": [
    {
     "data": {
      "text/plain": [
       "[8, 10, 9, 7]"
      ]
     },
     "execution_count": 1,
     "metadata": {},
     "output_type": "execute_result"
    }
   ],
   "source": [
    "weather_list = [8, 10, 9, 7]\n",
    "\n",
    "# which can also be written as:\n",
    "weather_list = list((8, 10, 9, 7))\n",
    "weather_list"
   ]
  },
  {
   "cell_type": "markdown",
   "metadata": {},
   "source": [
    "### One-dimensional Tensor"
   ]
  },
  {
   "cell_type": "markdown",
   "metadata": {},
   "source": [
    "Now instead of using a list to store this data, let's load the tensor data structure using PyTorch:"
   ]
  },
  {
   "cell_type": "code",
   "execution_count": 2,
   "metadata": {},
   "outputs": [],
   "source": [
    "import torch"
   ]
  },
  {
   "cell_type": "code",
   "execution_count": 3,
   "metadata": {},
   "outputs": [
    {
     "data": {
      "text/plain": [
       "tensor([ 8, 10,  9,  7])"
      ]
     },
     "execution_count": 3,
     "metadata": {},
     "output_type": "execute_result"
    }
   ],
   "source": [
    "weather_tensor = torch.tensor([8,   # 1st of Jan: 8°C\n",
    "                               10,  # 2nd of Jan: 10°C\n",
    "                               9,   # 3rd of Jan: 9°C\n",
    "                               7])  # 4th of Jan: 7°C\n",
    "weather_tensor"
   ]
  },
  {
   "cell_type": "markdown",
   "metadata": {},
   "source": [
    "*Congratulations, you've just created your first tensor!* 💃"
   ]
  },
  {
   "cell_type": "markdown",
   "metadata": {},
   "source": [
    "With a single (1) type of data, in this case the temperature that is in the tensor, we call this a one-dimensional (1-D) tensor. Now what happens when we add a second point of weather data, such as rain?"
   ]
  },
  {
   "cell_type": "markdown",
   "metadata": {},
   "source": [
    "### 2 dimensional Tensor"
   ]
  },
  {
   "cell_type": "markdown",
   "metadata": {},
   "source": [
    "In addition to temperature, how about we also look at how much it rained during our days in January? Let's say it rained 1 out of the 4 previous days:\n",
    "\n",
    "* 1st of Jan: 0mm\n",
    "* 2nd of Jan: 0mm\n",
    "* 3rd of Jan: 3mm\n",
    "* 4th of Jan: 0mm\n",
    "\n",
    "Let's now write this out in a tensor:"
   ]
  },
  {
   "cell_type": "code",
   "execution_count": 4,
   "metadata": {},
   "outputs": [
    {
     "data": {
      "text/plain": [
       "tensor([[ 8,  0],\n",
       "        [10,  0],\n",
       "        [ 9,  3],\n",
       "        [ 7,  0]])"
      ]
     },
     "execution_count": 4,
     "metadata": {},
     "output_type": "execute_result"
    }
   ],
   "source": [
    "weather_tensor = torch.tensor([[ 8,  0],  # 1st of Jan: 8°C, 0mm rainfall\n",
    "                                [10,  0],  # 2nd of Jan: 10°C, 0mm rainfall\n",
    "                                [ 9,  3],  # 3rd of Jan: 9°C, 3mm rainfall\n",
    "                                [ 7,  0]]) # 4th of Jan: 7°C, 0mm rainfall\n",
    "weather_tensor"
   ]
  },
  {
   "cell_type": "markdown",
   "metadata": {},
   "source": [
    "\n",
    "What we've just done is what people would call \"adding a new ```dimension```\" to the tensor. First we only had 1 dimension of the temperature, now let's add the "
   ]
  },
  {
   "cell_type": "markdown",
   "metadata": {},
   "source": [
    "### Great work :)\n",
    "\n",
    "You have now set up weather data to be fed into a weather forecast, nice one!"
   ]
  },
  {
   "cell_type": "markdown",
   "metadata": {},
   "source": [
    "# Summary:\n",
    "\n",
    "Now we know the way to store our data to feed into the neural network. Next step is to take this data and set it up to be used for the next part: the ```input_layer```!"
   ]
  }
 ],
 "metadata": {
  "kernelspec": {
   "display_name": "envone",
   "language": "python",
   "name": "python3"
  },
  "language_info": {
   "codemirror_mode": {
    "name": "ipython",
    "version": 3
   },
   "file_extension": ".py",
   "mimetype": "text/x-python",
   "name": "python",
   "nbconvert_exporter": "python",
   "pygments_lexer": "ipython3",
   "version": "3.10.9"
  }
 },
 "nbformat": 4,
 "nbformat_minor": 2
}